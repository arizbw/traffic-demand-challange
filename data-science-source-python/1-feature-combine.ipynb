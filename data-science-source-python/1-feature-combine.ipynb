{
 "cells": [
  {
   "cell_type": "markdown",
   "metadata": {},
   "source": [
    "# 1-Feature engineering process"
   ]
  },
  {
   "cell_type": "markdown",
   "metadata": {},
   "source": [
    "### Contents\n",
    "##### 1. Convert geohash6 to east, north, south, west\n",
    "##### 2. Split timestamp feature to hour and minute\n",
    "##### 3. Combine east, north, south, west, day, hour, minute, demand into one tuple and use std out from bash script\n",
    "##### 4. Execute nohup python feature-combine.py &>combine.csv& "
   ]
  },
  {
   "cell_type": "code",
   "execution_count": null,
   "metadata": {},
   "outputs": [],
   "source": [
    "import geohash\n",
    "import pandas as pd\n",
    "from numpy.random import randint\n",
    "import sys\n",
    "\n",
    "df_1 = pd.read_csv(\"training.csv\", names=[\"geohash6\",\"day\",\"timestamp\",\"demand\"], dtype=\"unicode\", engine='python',header=None)\n",
    "\n",
    "for index, row in df_1.iterrows():\n",
    "    gh = geohash.bbox(row[\"geohash6\"])\n",
    "    dy = row[\"day\"]\n",
    "    tm = row[\"timestamp\"]\n",
    "    tm_ex = tm.split(\":\")\n",
    "    dm = row[\"demand\"]\n",
    "    data = str(gh['e']) +','+str(gh['n'])+','+str(gh['s'])+','+str(gh['w'])+','+str(dy)+','+str(tm_ex[0])+','+str(tm_ex[1])+','+str(dm)\n",
    "    print(data)"
   ]
  }
 ],
 "metadata": {
  "kernelspec": {
   "display_name": "Python 3",
   "language": "python",
   "name": "python3"
  },
  "language_info": {
   "codemirror_mode": {
    "name": "ipython",
    "version": 3
   },
   "file_extension": ".py",
   "mimetype": "text/x-python",
   "name": "python",
   "nbconvert_exporter": "python",
   "pygments_lexer": "ipython3",
   "version": "3.6.4"
  }
 },
 "nbformat": 4,
 "nbformat_minor": 2
}
