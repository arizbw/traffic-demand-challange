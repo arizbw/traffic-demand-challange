{
 "cells": [
  {
   "cell_type": "markdown",
   "metadata": {},
   "source": [
    "### 2-Traffic demand analysis ipynb (standard approach)"
   ]
  },
  {
   "cell_type": "markdown",
   "metadata": {},
   "source": [
    "#### Contents\n",
    "##### 1. Load clean dataset\n",
    "##### 2. Convert value to numeric value\n",
    "##### 3. View dataset statistic\n",
    "##### 4. Features correlation\n",
    "##### 5. Split train and test\n",
    "##### 6. Model initialization for linear regression, decision tree, and random forest\n",
    "##### 7. K-Fold validation intialization\n",
    "##### 8. Display boxplot for RMSE result\n",
    "##### 9. Linear Regression Analysis (MAE, RMSE, Fitting time)\n",
    "##### 10. Decision Tree Analysis (MAE, RMSE, Fitting time)\n",
    "##### 11. Random Forest Analysis (MAE, RMSE, Fitting time)\n",
    "##### 12. Save model to file\n",
    "##### 12. Load and test the model"
   ]
  },
  {
   "cell_type": "markdown",
   "metadata": {},
   "source": [
    "#### 1. Load clean dataset"
   ]
  },
  {
   "cell_type": "code",
   "execution_count": null,
   "metadata": {},
   "outputs": [],
   "source": [
    "import pandas as pd\n",
    "df = pd.read_csv(\"combine.csv\", names=[\"east\", \"north\", \"south\", \"west\", \"day\", \"hour\", \"minute\", \"demand\"], dtype=\"unicode\", engine='python')"
   ]
  },
  {
   "cell_type": "markdown",
   "metadata": {},
   "source": [
    "#### 2. Convert value to numeric value"
   ]
  },
  {
   "cell_type": "code",
   "execution_count": 4,
   "metadata": {},
   "outputs": [
    {
     "data": {
      "text/plain": [
       "east      float64\n",
       "north     float64\n",
       "south     float64\n",
       "west      float64\n",
       "day         int64\n",
       "hour        int64\n",
       "minute      int64\n",
       "demand    float64\n",
       "dtype: object"
      ]
     },
     "execution_count": 4,
     "metadata": {},
     "output_type": "execute_result"
    }
   ],
   "source": [
    "columns = [\"east\", \"north\", \"south\", \"west\", \"day\", \"hour\", \"minute\", \"demand\"]\n",
    "for col in columns:\n",
    "    df[col] = pd.to_numeric(df[col], errors=\"coerce\")\n",
    "df.dtypes"
   ]
  },
  {
   "cell_type": "markdown",
   "metadata": {},
   "source": [
    "#### 3. View dataset statistic"
   ]
  },
  {
   "cell_type": "code",
   "execution_count": 7,
   "metadata": {},
   "outputs": [
    {
     "data": {
      "text/html": [
       "<div>\n",
       "<style scoped>\n",
       "    .dataframe tbody tr th:only-of-type {\n",
       "        vertical-align: middle;\n",
       "    }\n",
       "\n",
       "    .dataframe tbody tr th {\n",
       "        vertical-align: top;\n",
       "    }\n",
       "\n",
       "    .dataframe thead th {\n",
       "        text-align: right;\n",
       "    }\n",
       "</style>\n",
       "<table border=\"1\" class=\"dataframe\">\n",
       "  <thead>\n",
       "    <tr style=\"text-align: right;\">\n",
       "      <th></th>\n",
       "      <th>east</th>\n",
       "      <th>north</th>\n",
       "      <th>south</th>\n",
       "      <th>west</th>\n",
       "      <th>day</th>\n",
       "      <th>hour</th>\n",
       "      <th>minute</th>\n",
       "      <th>demand</th>\n",
       "    </tr>\n",
       "  </thead>\n",
       "  <tbody>\n",
       "    <tr>\n",
       "      <th>count</th>\n",
       "      <td>4.206321e+06</td>\n",
       "      <td>4.206321e+06</td>\n",
       "      <td>4.206321e+06</td>\n",
       "      <td>4.206321e+06</td>\n",
       "      <td>4.206321e+06</td>\n",
       "      <td>4.206321e+06</td>\n",
       "      <td>4.206321e+06</td>\n",
       "      <td>4.206321e+06</td>\n",
       "    </tr>\n",
       "    <tr>\n",
       "      <th>mean</th>\n",
       "      <td>9.076961e+01</td>\n",
       "      <td>-5.344682e+00</td>\n",
       "      <td>-5.350175e+00</td>\n",
       "      <td>9.075862e+01</td>\n",
       "      <td>3.145299e+01</td>\n",
       "      <td>9.816315e+00</td>\n",
       "      <td>2.245206e+01</td>\n",
       "      <td>1.050907e-01</td>\n",
       "    </tr>\n",
       "    <tr>\n",
       "      <th>std</th>\n",
       "      <td>1.027662e-01</td>\n",
       "      <td>5.670886e-02</td>\n",
       "      <td>5.670886e-02</td>\n",
       "      <td>1.027662e-01</td>\n",
       "      <td>1.768278e+01</td>\n",
       "      <td>6.536769e+00</td>\n",
       "      <td>1.677580e+01</td>\n",
       "      <td>1.592655e-01</td>\n",
       "    </tr>\n",
       "    <tr>\n",
       "      <th>min</th>\n",
       "      <td>9.059326e+01</td>\n",
       "      <td>-5.482178e+00</td>\n",
       "      <td>-5.487671e+00</td>\n",
       "      <td>9.058228e+01</td>\n",
       "      <td>1.000000e+00</td>\n",
       "      <td>0.000000e+00</td>\n",
       "      <td>0.000000e+00</td>\n",
       "      <td>3.092217e-09</td>\n",
       "    </tr>\n",
       "    <tr>\n",
       "      <th>25%</th>\n",
       "      <td>9.068115e+01</td>\n",
       "      <td>-5.388794e+00</td>\n",
       "      <td>-5.394287e+00</td>\n",
       "      <td>9.067017e+01</td>\n",
       "      <td>1.600000e+01</td>\n",
       "      <td>4.000000e+00</td>\n",
       "      <td>0.000000e+00</td>\n",
       "      <td>1.867379e-02</td>\n",
       "    </tr>\n",
       "    <tr>\n",
       "      <th>50%</th>\n",
       "      <td>9.075806e+01</td>\n",
       "      <td>-5.344849e+00</td>\n",
       "      <td>-5.350342e+00</td>\n",
       "      <td>9.074707e+01</td>\n",
       "      <td>3.200000e+01</td>\n",
       "      <td>9.000000e+00</td>\n",
       "      <td>1.500000e+01</td>\n",
       "      <td>5.043463e-02</td>\n",
       "    </tr>\n",
       "    <tr>\n",
       "      <th>75%</th>\n",
       "      <td>9.085693e+01</td>\n",
       "      <td>-5.300903e+00</td>\n",
       "      <td>-5.306396e+00</td>\n",
       "      <td>9.084595e+01</td>\n",
       "      <td>4.700000e+01</td>\n",
       "      <td>1.400000e+01</td>\n",
       "      <td>3.000000e+01</td>\n",
       "      <td>1.208644e-01</td>\n",
       "    </tr>\n",
       "    <tr>\n",
       "      <th>max</th>\n",
       "      <td>9.097778e+01</td>\n",
       "      <td>-5.234985e+00</td>\n",
       "      <td>-5.240479e+00</td>\n",
       "      <td>9.096680e+01</td>\n",
       "      <td>6.100000e+01</td>\n",
       "      <td>2.300000e+01</td>\n",
       "      <td>4.500000e+01</td>\n",
       "      <td>1.000000e+00</td>\n",
       "    </tr>\n",
       "  </tbody>\n",
       "</table>\n",
       "</div>"
      ],
      "text/plain": [
       "               east         north         south          west           day  \\\n",
       "count  4.206321e+06  4.206321e+06  4.206321e+06  4.206321e+06  4.206321e+06   \n",
       "mean   9.076961e+01 -5.344682e+00 -5.350175e+00  9.075862e+01  3.145299e+01   \n",
       "std    1.027662e-01  5.670886e-02  5.670886e-02  1.027662e-01  1.768278e+01   \n",
       "min    9.059326e+01 -5.482178e+00 -5.487671e+00  9.058228e+01  1.000000e+00   \n",
       "25%    9.068115e+01 -5.388794e+00 -5.394287e+00  9.067017e+01  1.600000e+01   \n",
       "50%    9.075806e+01 -5.344849e+00 -5.350342e+00  9.074707e+01  3.200000e+01   \n",
       "75%    9.085693e+01 -5.300903e+00 -5.306396e+00  9.084595e+01  4.700000e+01   \n",
       "max    9.097778e+01 -5.234985e+00 -5.240479e+00  9.096680e+01  6.100000e+01   \n",
       "\n",
       "               hour        minute        demand  \n",
       "count  4.206321e+06  4.206321e+06  4.206321e+06  \n",
       "mean   9.816315e+00  2.245206e+01  1.050907e-01  \n",
       "std    6.536769e+00  1.677580e+01  1.592655e-01  \n",
       "min    0.000000e+00  0.000000e+00  3.092217e-09  \n",
       "25%    4.000000e+00  0.000000e+00  1.867379e-02  \n",
       "50%    9.000000e+00  1.500000e+01  5.043463e-02  \n",
       "75%    1.400000e+01  3.000000e+01  1.208644e-01  \n",
       "max    2.300000e+01  4.500000e+01  1.000000e+00  "
      ]
     },
     "execution_count": 7,
     "metadata": {},
     "output_type": "execute_result"
    }
   ],
   "source": [
    "df.describe()"
   ]
  },
  {
   "cell_type": "markdown",
   "metadata": {},
   "source": [
    "#### 4. Features correlation"
   ]
  },
  {
   "cell_type": "code",
   "execution_count": 5,
   "metadata": {},
   "outputs": [
    {
     "data": {
      "text/html": [
       "<style  type=\"text/css\" >\n",
       "    #T_160f4192_8d9b_11e9_b7c1_0c8bfd7cefddrow0_col0 {\n",
       "            background-color:  #b40426;\n",
       "        }    #T_160f4192_8d9b_11e9_b7c1_0c8bfd7cefddrow0_col1 {\n",
       "            background-color:  #7da0f9;\n",
       "        }    #T_160f4192_8d9b_11e9_b7c1_0c8bfd7cefddrow0_col2 {\n",
       "            background-color:  #7da0f9;\n",
       "        }    #T_160f4192_8d9b_11e9_b7c1_0c8bfd7cefddrow0_col3 {\n",
       "            background-color:  #b40426;\n",
       "        }    #T_160f4192_8d9b_11e9_b7c1_0c8bfd7cefddrow0_col4 {\n",
       "            background-color:  #5470de;\n",
       "        }    #T_160f4192_8d9b_11e9_b7c1_0c8bfd7cefddrow0_col5 {\n",
       "            background-color:  #3b4cc0;\n",
       "        }    #T_160f4192_8d9b_11e9_b7c1_0c8bfd7cefddrow0_col6 {\n",
       "            background-color:  #506bda;\n",
       "        }    #T_160f4192_8d9b_11e9_b7c1_0c8bfd7cefddrow0_col7 {\n",
       "            background-color:  #485fd1;\n",
       "        }    #T_160f4192_8d9b_11e9_b7c1_0c8bfd7cefddrow1_col0 {\n",
       "            background-color:  #6c8ff1;\n",
       "        }    #T_160f4192_8d9b_11e9_b7c1_0c8bfd7cefddrow1_col1 {\n",
       "            background-color:  #b40426;\n",
       "        }    #T_160f4192_8d9b_11e9_b7c1_0c8bfd7cefddrow1_col2 {\n",
       "            background-color:  #b40426;\n",
       "        }    #T_160f4192_8d9b_11e9_b7c1_0c8bfd7cefddrow1_col3 {\n",
       "            background-color:  #6c8ff1;\n",
       "        }    #T_160f4192_8d9b_11e9_b7c1_0c8bfd7cefddrow1_col4 {\n",
       "            background-color:  #3f53c6;\n",
       "        }    #T_160f4192_8d9b_11e9_b7c1_0c8bfd7cefddrow1_col5 {\n",
       "            background-color:  #485fd1;\n",
       "        }    #T_160f4192_8d9b_11e9_b7c1_0c8bfd7cefddrow1_col6 {\n",
       "            background-color:  #4055c8;\n",
       "        }    #T_160f4192_8d9b_11e9_b7c1_0c8bfd7cefddrow1_col7 {\n",
       "            background-color:  #3b4cc0;\n",
       "        }    #T_160f4192_8d9b_11e9_b7c1_0c8bfd7cefddrow2_col0 {\n",
       "            background-color:  #6c8ff1;\n",
       "        }    #T_160f4192_8d9b_11e9_b7c1_0c8bfd7cefddrow2_col1 {\n",
       "            background-color:  #b40426;\n",
       "        }    #T_160f4192_8d9b_11e9_b7c1_0c8bfd7cefddrow2_col2 {\n",
       "            background-color:  #b40426;\n",
       "        }    #T_160f4192_8d9b_11e9_b7c1_0c8bfd7cefddrow2_col3 {\n",
       "            background-color:  #6c8ff1;\n",
       "        }    #T_160f4192_8d9b_11e9_b7c1_0c8bfd7cefddrow2_col4 {\n",
       "            background-color:  #3f53c6;\n",
       "        }    #T_160f4192_8d9b_11e9_b7c1_0c8bfd7cefddrow2_col5 {\n",
       "            background-color:  #485fd1;\n",
       "        }    #T_160f4192_8d9b_11e9_b7c1_0c8bfd7cefddrow2_col6 {\n",
       "            background-color:  #4055c8;\n",
       "        }    #T_160f4192_8d9b_11e9_b7c1_0c8bfd7cefddrow2_col7 {\n",
       "            background-color:  #3b4cc0;\n",
       "        }    #T_160f4192_8d9b_11e9_b7c1_0c8bfd7cefddrow3_col0 {\n",
       "            background-color:  #b40426;\n",
       "        }    #T_160f4192_8d9b_11e9_b7c1_0c8bfd7cefddrow3_col1 {\n",
       "            background-color:  #7da0f9;\n",
       "        }    #T_160f4192_8d9b_11e9_b7c1_0c8bfd7cefddrow3_col2 {\n",
       "            background-color:  #7da0f9;\n",
       "        }    #T_160f4192_8d9b_11e9_b7c1_0c8bfd7cefddrow3_col3 {\n",
       "            background-color:  #b40426;\n",
       "        }    #T_160f4192_8d9b_11e9_b7c1_0c8bfd7cefddrow3_col4 {\n",
       "            background-color:  #5470de;\n",
       "        }    #T_160f4192_8d9b_11e9_b7c1_0c8bfd7cefddrow3_col5 {\n",
       "            background-color:  #3b4cc0;\n",
       "        }    #T_160f4192_8d9b_11e9_b7c1_0c8bfd7cefddrow3_col6 {\n",
       "            background-color:  #506bda;\n",
       "        }    #T_160f4192_8d9b_11e9_b7c1_0c8bfd7cefddrow3_col7 {\n",
       "            background-color:  #485fd1;\n",
       "        }    #T_160f4192_8d9b_11e9_b7c1_0c8bfd7cefddrow4_col0 {\n",
       "            background-color:  #3e51c5;\n",
       "        }    #T_160f4192_8d9b_11e9_b7c1_0c8bfd7cefddrow4_col1 {\n",
       "            background-color:  #3b4cc0;\n",
       "        }    #T_160f4192_8d9b_11e9_b7c1_0c8bfd7cefddrow4_col2 {\n",
       "            background-color:  #3b4cc0;\n",
       "        }    #T_160f4192_8d9b_11e9_b7c1_0c8bfd7cefddrow4_col3 {\n",
       "            background-color:  #3e51c5;\n",
       "        }    #T_160f4192_8d9b_11e9_b7c1_0c8bfd7cefddrow4_col4 {\n",
       "            background-color:  #b40426;\n",
       "        }    #T_160f4192_8d9b_11e9_b7c1_0c8bfd7cefddrow4_col5 {\n",
       "            background-color:  #3b4cc0;\n",
       "        }    #T_160f4192_8d9b_11e9_b7c1_0c8bfd7cefddrow4_col6 {\n",
       "            background-color:  #3b4cc0;\n",
       "        }    #T_160f4192_8d9b_11e9_b7c1_0c8bfd7cefddrow4_col7 {\n",
       "            background-color:  #4257c9;\n",
       "        }    #T_160f4192_8d9b_11e9_b7c1_0c8bfd7cefddrow5_col0 {\n",
       "            background-color:  #3c4ec2;\n",
       "        }    #T_160f4192_8d9b_11e9_b7c1_0c8bfd7cefddrow5_col1 {\n",
       "            background-color:  #5977e3;\n",
       "        }    #T_160f4192_8d9b_11e9_b7c1_0c8bfd7cefddrow5_col2 {\n",
       "            background-color:  #5977e3;\n",
       "        }    #T_160f4192_8d9b_11e9_b7c1_0c8bfd7cefddrow5_col3 {\n",
       "            background-color:  #3c4ec2;\n",
       "        }    #T_160f4192_8d9b_11e9_b7c1_0c8bfd7cefddrow5_col4 {\n",
       "            background-color:  #536edd;\n",
       "        }    #T_160f4192_8d9b_11e9_b7c1_0c8bfd7cefddrow5_col5 {\n",
       "            background-color:  #b40426;\n",
       "        }    #T_160f4192_8d9b_11e9_b7c1_0c8bfd7cefddrow5_col6 {\n",
       "            background-color:  #536edd;\n",
       "        }    #T_160f4192_8d9b_11e9_b7c1_0c8bfd7cefddrow5_col7 {\n",
       "            background-color:  #3b4cc0;\n",
       "        }    #T_160f4192_8d9b_11e9_b7c1_0c8bfd7cefddrow6_col0 {\n",
       "            background-color:  #3b4cc0;\n",
       "        }    #T_160f4192_8d9b_11e9_b7c1_0c8bfd7cefddrow6_col1 {\n",
       "            background-color:  #3b4cc0;\n",
       "        }    #T_160f4192_8d9b_11e9_b7c1_0c8bfd7cefddrow6_col2 {\n",
       "            background-color:  #3b4cc0;\n",
       "        }    #T_160f4192_8d9b_11e9_b7c1_0c8bfd7cefddrow6_col3 {\n",
       "            background-color:  #3b4cc0;\n",
       "        }    #T_160f4192_8d9b_11e9_b7c1_0c8bfd7cefddrow6_col4 {\n",
       "            background-color:  #3b4cc0;\n",
       "        }    #T_160f4192_8d9b_11e9_b7c1_0c8bfd7cefddrow6_col5 {\n",
       "            background-color:  #3c4ec2;\n",
       "        }    #T_160f4192_8d9b_11e9_b7c1_0c8bfd7cefddrow6_col6 {\n",
       "            background-color:  #b40426;\n",
       "        }    #T_160f4192_8d9b_11e9_b7c1_0c8bfd7cefddrow6_col7 {\n",
       "            background-color:  #3b4cc0;\n",
       "        }    #T_160f4192_8d9b_11e9_b7c1_0c8bfd7cefddrow7_col0 {\n",
       "            background-color:  #4961d2;\n",
       "        }    #T_160f4192_8d9b_11e9_b7c1_0c8bfd7cefddrow7_col1 {\n",
       "            background-color:  #4b64d5;\n",
       "        }    #T_160f4192_8d9b_11e9_b7c1_0c8bfd7cefddrow7_col2 {\n",
       "            background-color:  #4b64d5;\n",
       "        }    #T_160f4192_8d9b_11e9_b7c1_0c8bfd7cefddrow7_col3 {\n",
       "            background-color:  #4961d2;\n",
       "        }    #T_160f4192_8d9b_11e9_b7c1_0c8bfd7cefddrow7_col4 {\n",
       "            background-color:  #5977e3;\n",
       "        }    #T_160f4192_8d9b_11e9_b7c1_0c8bfd7cefddrow7_col5 {\n",
       "            background-color:  #3b4cc0;\n",
       "        }    #T_160f4192_8d9b_11e9_b7c1_0c8bfd7cefddrow7_col6 {\n",
       "            background-color:  #516ddb;\n",
       "        }    #T_160f4192_8d9b_11e9_b7c1_0c8bfd7cefddrow7_col7 {\n",
       "            background-color:  #b40426;\n",
       "        }</style>  \n",
       "<table id=\"T_160f4192_8d9b_11e9_b7c1_0c8bfd7cefdd\" > \n",
       "<thead>    <tr> \n",
       "        <th class=\"blank level0\" ></th> \n",
       "        <th class=\"col_heading level0 col0\" >east</th> \n",
       "        <th class=\"col_heading level0 col1\" >north</th> \n",
       "        <th class=\"col_heading level0 col2\" >south</th> \n",
       "        <th class=\"col_heading level0 col3\" >west</th> \n",
       "        <th class=\"col_heading level0 col4\" >day</th> \n",
       "        <th class=\"col_heading level0 col5\" >hour</th> \n",
       "        <th class=\"col_heading level0 col6\" >minute</th> \n",
       "        <th class=\"col_heading level0 col7\" >demand</th> \n",
       "    </tr></thead> \n",
       "<tbody>    <tr> \n",
       "        <th id=\"T_160f4192_8d9b_11e9_b7c1_0c8bfd7cefddlevel0_row0\" class=\"row_heading level0 row0\" >east</th> \n",
       "        <td id=\"T_160f4192_8d9b_11e9_b7c1_0c8bfd7cefddrow0_col0\" class=\"data row0 col0\" >1.0</td> \n",
       "        <td id=\"T_160f4192_8d9b_11e9_b7c1_0c8bfd7cefddrow0_col1\" class=\"data row0 col1\" >0.14</td> \n",
       "        <td id=\"T_160f4192_8d9b_11e9_b7c1_0c8bfd7cefddrow0_col2\" class=\"data row0 col2\" >0.14</td> \n",
       "        <td id=\"T_160f4192_8d9b_11e9_b7c1_0c8bfd7cefddrow0_col3\" class=\"data row0 col3\" >1.0</td> \n",
       "        <td id=\"T_160f4192_8d9b_11e9_b7c1_0c8bfd7cefddrow0_col4\" class=\"data row0 col4\" >0.01</td> \n",
       "        <td id=\"T_160f4192_8d9b_11e9_b7c1_0c8bfd7cefddrow0_col5\" class=\"data row0 col5\" >-0.08</td> \n",
       "        <td id=\"T_160f4192_8d9b_11e9_b7c1_0c8bfd7cefddrow0_col6\" class=\"data row0 col6\" >-0.0004</td> \n",
       "        <td id=\"T_160f4192_8d9b_11e9_b7c1_0c8bfd7cefddrow0_col7\" class=\"data row0 col7\" >-0.032</td> \n",
       "    </tr>    <tr> \n",
       "        <th id=\"T_160f4192_8d9b_11e9_b7c1_0c8bfd7cefddlevel0_row1\" class=\"row_heading level0 row1\" >north</th> \n",
       "        <td id=\"T_160f4192_8d9b_11e9_b7c1_0c8bfd7cefddrow1_col0\" class=\"data row1 col0\" >0.14</td> \n",
       "        <td id=\"T_160f4192_8d9b_11e9_b7c1_0c8bfd7cefddrow1_col1\" class=\"data row1 col1\" >1.0</td> \n",
       "        <td id=\"T_160f4192_8d9b_11e9_b7c1_0c8bfd7cefddrow1_col2\" class=\"data row1 col2\" >1.0</td> \n",
       "        <td id=\"T_160f4192_8d9b_11e9_b7c1_0c8bfd7cefddrow1_col3\" class=\"data row1 col3\" >0.14</td> \n",
       "        <td id=\"T_160f4192_8d9b_11e9_b7c1_0c8bfd7cefddrow1_col4\" class=\"data row1 col4\" >-0.0037</td> \n",
       "        <td id=\"T_160f4192_8d9b_11e9_b7c1_0c8bfd7cefddrow1_col5\" class=\"data row1 col5\" >0.024</td> \n",
       "        <td id=\"T_160f4192_8d9b_11e9_b7c1_0c8bfd7cefddrow1_col6\" class=\"data row1 col6\" >-0.00027</td> \n",
       "        <td id=\"T_160f4192_8d9b_11e9_b7c1_0c8bfd7cefddrow1_col7\" class=\"data row1 col7\" >-0.022</td> \n",
       "    </tr>    <tr> \n",
       "        <th id=\"T_160f4192_8d9b_11e9_b7c1_0c8bfd7cefddlevel0_row2\" class=\"row_heading level0 row2\" >south</th> \n",
       "        <td id=\"T_160f4192_8d9b_11e9_b7c1_0c8bfd7cefddrow2_col0\" class=\"data row2 col0\" >0.14</td> \n",
       "        <td id=\"T_160f4192_8d9b_11e9_b7c1_0c8bfd7cefddrow2_col1\" class=\"data row2 col1\" >1.0</td> \n",
       "        <td id=\"T_160f4192_8d9b_11e9_b7c1_0c8bfd7cefddrow2_col2\" class=\"data row2 col2\" >1.0</td> \n",
       "        <td id=\"T_160f4192_8d9b_11e9_b7c1_0c8bfd7cefddrow2_col3\" class=\"data row2 col3\" >0.14</td> \n",
       "        <td id=\"T_160f4192_8d9b_11e9_b7c1_0c8bfd7cefddrow2_col4\" class=\"data row2 col4\" >-0.0037</td> \n",
       "        <td id=\"T_160f4192_8d9b_11e9_b7c1_0c8bfd7cefddrow2_col5\" class=\"data row2 col5\" >0.024</td> \n",
       "        <td id=\"T_160f4192_8d9b_11e9_b7c1_0c8bfd7cefddrow2_col6\" class=\"data row2 col6\" >-0.00027</td> \n",
       "        <td id=\"T_160f4192_8d9b_11e9_b7c1_0c8bfd7cefddrow2_col7\" class=\"data row2 col7\" >-0.022</td> \n",
       "    </tr>    <tr> \n",
       "        <th id=\"T_160f4192_8d9b_11e9_b7c1_0c8bfd7cefddlevel0_row3\" class=\"row_heading level0 row3\" >west</th> \n",
       "        <td id=\"T_160f4192_8d9b_11e9_b7c1_0c8bfd7cefddrow3_col0\" class=\"data row3 col0\" >1.0</td> \n",
       "        <td id=\"T_160f4192_8d9b_11e9_b7c1_0c8bfd7cefddrow3_col1\" class=\"data row3 col1\" >0.14</td> \n",
       "        <td id=\"T_160f4192_8d9b_11e9_b7c1_0c8bfd7cefddrow3_col2\" class=\"data row3 col2\" >0.14</td> \n",
       "        <td id=\"T_160f4192_8d9b_11e9_b7c1_0c8bfd7cefddrow3_col3\" class=\"data row3 col3\" >1.0</td> \n",
       "        <td id=\"T_160f4192_8d9b_11e9_b7c1_0c8bfd7cefddrow3_col4\" class=\"data row3 col4\" >0.01</td> \n",
       "        <td id=\"T_160f4192_8d9b_11e9_b7c1_0c8bfd7cefddrow3_col5\" class=\"data row3 col5\" >-0.08</td> \n",
       "        <td id=\"T_160f4192_8d9b_11e9_b7c1_0c8bfd7cefddrow3_col6\" class=\"data row3 col6\" >-0.0004</td> \n",
       "        <td id=\"T_160f4192_8d9b_11e9_b7c1_0c8bfd7cefddrow3_col7\" class=\"data row3 col7\" >-0.032</td> \n",
       "    </tr>    <tr> \n",
       "        <th id=\"T_160f4192_8d9b_11e9_b7c1_0c8bfd7cefddlevel0_row4\" class=\"row_heading level0 row4\" >day</th> \n",
       "        <td id=\"T_160f4192_8d9b_11e9_b7c1_0c8bfd7cefddrow4_col0\" class=\"data row4 col0\" >0.01</td> \n",
       "        <td id=\"T_160f4192_8d9b_11e9_b7c1_0c8bfd7cefddrow4_col1\" class=\"data row4 col1\" >-0.0037</td> \n",
       "        <td id=\"T_160f4192_8d9b_11e9_b7c1_0c8bfd7cefddrow4_col2\" class=\"data row4 col2\" >-0.0037</td> \n",
       "        <td id=\"T_160f4192_8d9b_11e9_b7c1_0c8bfd7cefddrow4_col3\" class=\"data row4 col3\" >0.01</td> \n",
       "        <td id=\"T_160f4192_8d9b_11e9_b7c1_0c8bfd7cefddrow4_col4\" class=\"data row4 col4\" >1.0</td> \n",
       "        <td id=\"T_160f4192_8d9b_11e9_b7c1_0c8bfd7cefddrow4_col5\" class=\"data row4 col5\" >-3.1e-05</td> \n",
       "        <td id=\"T_160f4192_8d9b_11e9_b7c1_0c8bfd7cefddrow4_col6\" class=\"data row4 col6\" >0.00012</td> \n",
       "        <td id=\"T_160f4192_8d9b_11e9_b7c1_0c8bfd7cefddrow4_col7\" class=\"data row4 col7\" >0.024</td> \n",
       "    </tr>    <tr> \n",
       "        <th id=\"T_160f4192_8d9b_11e9_b7c1_0c8bfd7cefddlevel0_row5\" class=\"row_heading level0 row5\" >hour</th> \n",
       "        <td id=\"T_160f4192_8d9b_11e9_b7c1_0c8bfd7cefddrow5_col0\" class=\"data row5 col0\" >-0.08</td> \n",
       "        <td id=\"T_160f4192_8d9b_11e9_b7c1_0c8bfd7cefddrow5_col1\" class=\"data row5 col1\" >0.024</td> \n",
       "        <td id=\"T_160f4192_8d9b_11e9_b7c1_0c8bfd7cefddrow5_col2\" class=\"data row5 col2\" >0.024</td> \n",
       "        <td id=\"T_160f4192_8d9b_11e9_b7c1_0c8bfd7cefddrow5_col3\" class=\"data row5 col3\" >-0.08</td> \n",
       "        <td id=\"T_160f4192_8d9b_11e9_b7c1_0c8bfd7cefddrow5_col4\" class=\"data row5 col4\" >-3.1e-05</td> \n",
       "        <td id=\"T_160f4192_8d9b_11e9_b7c1_0c8bfd7cefddrow5_col5\" class=\"data row5 col5\" >1.0</td> \n",
       "        <td id=\"T_160f4192_8d9b_11e9_b7c1_0c8bfd7cefddrow5_col6\" class=\"data row5 col6\" >0.0025</td> \n",
       "        <td id=\"T_160f4192_8d9b_11e9_b7c1_0c8bfd7cefddrow5_col7\" class=\"data row5 col7\" >-0.085</td> \n",
       "    </tr>    <tr> \n",
       "        <th id=\"T_160f4192_8d9b_11e9_b7c1_0c8bfd7cefddlevel0_row6\" class=\"row_heading level0 row6\" >minute</th> \n",
       "        <td id=\"T_160f4192_8d9b_11e9_b7c1_0c8bfd7cefddrow6_col0\" class=\"data row6 col0\" >-0.0004</td> \n",
       "        <td id=\"T_160f4192_8d9b_11e9_b7c1_0c8bfd7cefddrow6_col1\" class=\"data row6 col1\" >-0.00027</td> \n",
       "        <td id=\"T_160f4192_8d9b_11e9_b7c1_0c8bfd7cefddrow6_col2\" class=\"data row6 col2\" >-0.00027</td> \n",
       "        <td id=\"T_160f4192_8d9b_11e9_b7c1_0c8bfd7cefddrow6_col3\" class=\"data row6 col3\" >-0.0004</td> \n",
       "        <td id=\"T_160f4192_8d9b_11e9_b7c1_0c8bfd7cefddrow6_col4\" class=\"data row6 col4\" >0.00012</td> \n",
       "        <td id=\"T_160f4192_8d9b_11e9_b7c1_0c8bfd7cefddrow6_col5\" class=\"data row6 col5\" >0.0025</td> \n",
       "        <td id=\"T_160f4192_8d9b_11e9_b7c1_0c8bfd7cefddrow6_col6\" class=\"data row6 col6\" >1.0</td> \n",
       "        <td id=\"T_160f4192_8d9b_11e9_b7c1_0c8bfd7cefddrow6_col7\" class=\"data row6 col7\" >-0.0027</td> \n",
       "    </tr>    <tr> \n",
       "        <th id=\"T_160f4192_8d9b_11e9_b7c1_0c8bfd7cefddlevel0_row7\" class=\"row_heading level0 row7\" >demand</th> \n",
       "        <td id=\"T_160f4192_8d9b_11e9_b7c1_0c8bfd7cefddrow7_col0\" class=\"data row7 col0\" >-0.032</td> \n",
       "        <td id=\"T_160f4192_8d9b_11e9_b7c1_0c8bfd7cefddrow7_col1\" class=\"data row7 col1\" >-0.022</td> \n",
       "        <td id=\"T_160f4192_8d9b_11e9_b7c1_0c8bfd7cefddrow7_col2\" class=\"data row7 col2\" >-0.022</td> \n",
       "        <td id=\"T_160f4192_8d9b_11e9_b7c1_0c8bfd7cefddrow7_col3\" class=\"data row7 col3\" >-0.032</td> \n",
       "        <td id=\"T_160f4192_8d9b_11e9_b7c1_0c8bfd7cefddrow7_col4\" class=\"data row7 col4\" >0.024</td> \n",
       "        <td id=\"T_160f4192_8d9b_11e9_b7c1_0c8bfd7cefddrow7_col5\" class=\"data row7 col5\" >-0.085</td> \n",
       "        <td id=\"T_160f4192_8d9b_11e9_b7c1_0c8bfd7cefddrow7_col6\" class=\"data row7 col6\" >-0.0027</td> \n",
       "        <td id=\"T_160f4192_8d9b_11e9_b7c1_0c8bfd7cefddrow7_col7\" class=\"data row7 col7\" >1.0</td> \n",
       "    </tr></tbody> \n",
       "</table> "
      ],
      "text/plain": [
       "<pandas.io.formats.style.Styler at 0x2a534488550>"
      ]
     },
     "execution_count": 5,
     "metadata": {},
     "output_type": "execute_result"
    }
   ],
   "source": [
    "import numpy as np\n",
    "import matplotlib.pyplot as plt\n",
    "df.corr(method='pearson').style.format(\"{:.2}\").background_gradient(cmap=plt.get_cmap('coolwarm'), axis=1)"
   ]
  },
  {
   "cell_type": "markdown",
   "metadata": {},
   "source": [
    "#### 5. Split train and test"
   ]
  },
  {
   "cell_type": "code",
   "execution_count": 8,
   "metadata": {},
   "outputs": [],
   "source": [
    "from sklearn.model_selection import train_test_split\n",
    "from sklearn.metrics import accuracy_score, confusion_matrix, precision_score, recall_score\n",
    "features = df[[\"east\", \"north\", \"south\", \"west\", \"day\", \"hour\", \"minute\"]]\n",
    "labels = df['demand']\n",
    "train, test, train_labels, test_labels = train_test_split(features, labels, test_size = 0.2, random_state = 42)"
   ]
  },
  {
   "cell_type": "markdown",
   "metadata": {},
   "source": [
    "#### 6. Model initialization for linear regression, decision tree, and random forest"
   ]
  },
  {
   "cell_type": "code",
   "execution_count": 12,
   "metadata": {},
   "outputs": [],
   "source": [
    "models = []\n",
    "models.append(('LR', linreg))\n",
    "models.append(('DT', desreg))\n",
    "models.append(('RF', rfreg))"
   ]
  },
  {
   "cell_type": "markdown",
   "metadata": {},
   "source": [
    "#### 7. K-Fold validation intialization"
   ]
  },
  {
   "cell_type": "code",
   "execution_count": 13,
   "metadata": {},
   "outputs": [
    {
     "name": "stdout",
     "output_type": "stream",
     "text": [
      "LR: 0.158662 (0.000247)\n",
      "DT: 0.044481 (0.000173)\n",
      "RF: 0.036016 (0.000131)\n"
     ]
    }
   ],
   "source": [
    "from sklearn.model_selection import KFold, StratifiedKFold\n",
    "from sklearn.model_selection import cross_val_score\n",
    "results = []\n",
    "names = []\n",
    "scoring = \"neg_mean_squared_error\"\n",
    "\n",
    "for name, model in models:\n",
    "    kfold = KFold(n_splits=5, random_state=7)\n",
    "    cv_results = np.sqrt(abs(cross_val_score(model, train, train_labels, cv=kfold, scoring=scoring)))\n",
    "    results.append(cv_results)\n",
    "    names.append(name)\n",
    "    msg = \"%s: %f (%f)\" % (name, cv_results.mean(), cv_results.std())\n",
    "    print(msg)"
   ]
  },
  {
   "cell_type": "markdown",
   "metadata": {},
   "source": [
    "#### 8. Display boxplot for RMSE result"
   ]
  },
  {
   "cell_type": "code",
   "execution_count": 14,
   "metadata": {},
   "outputs": [
    {
     "data": {
      "image/png": "[encoded data removed]",
      "text/plain": [
       "<matplotlib.figure.Figure at 0x2a53452f470>"
      ]
     },
     "metadata": {},
     "output_type": "display_data"
    }
   ],
   "source": [
    "from matplotlib import pyplot\n",
    "# boxplot algorithm comparison\n",
    "fig = pyplot.figure()\n",
    "fig.suptitle('Machine Learning Algorithm Comparison - RMSE')\n",
    "ax = fig.add_subplot(111)\n",
    "pyplot.boxplot(results)\n",
    "ax.set_xticklabels(names)\n",
    "pyplot.show()"
   ]
  },
  {
   "cell_type": "markdown",
   "metadata": {},
   "source": [
    "#### 9. Linear Regression Analysis (MAE, RMSE, Fitting time)"
   ]
  },
  {
   "cell_type": "code",
   "execution_count": 24,
   "metadata": {},
   "outputs": [
    {
     "name": "stdout",
     "output_type": "stream",
     "text": [
      "MAE:  0.09618556721545037\n",
      "RMSE:  0.15785783573942375\n",
      "Linear regression:  0.009491397089042453\n",
      "Model Fitting Time: 0.8135457038879395 s\n"
     ]
    }
   ],
   "source": [
    "import time\n",
    "from sklearn.linear_model import LinearRegression\n",
    "from sklearn import metrics\n",
    "from sklearn.metrics import accuracy_score,confusion_matrix, precision_score, recall_score\n",
    "linreg = LinearRegression()\n",
    "start = time.time()\n",
    "linreg.fit(train, train_labels)\n",
    "end = time.time()\n",
    "y_pred = linreg.predict(test)\n",
    "print(\"MAE: \", metrics.mean_absolute_error(test_labels, y_pred))\n",
    "print(\"RMSE: \", np.sqrt(metrics.mean_squared_error(test_labels, y_pred)))\n",
    "print(\"Linear regression: \", linreg.score(train,train_labels))\n",
    "print(\"Model Fitting Time: \"+ str(end - start) + \" s\")"
   ]
  },
  {
   "cell_type": "markdown",
   "metadata": {},
   "source": [
    "#### 10. Decision Tree Analysis (MAE, RMSE, Fitting time)"
   ]
  },
  {
   "cell_type": "code",
   "execution_count": 25,
   "metadata": {},
   "outputs": [
    {
     "name": "stdout",
     "output_type": "stream",
     "text": [
      "MAE:  0.026648058048129215\n",
      "RMSE:  0.04213670991350162\n",
      "Decision Tree Regressor:  0.9999999425343996\n",
      "Model Fitting Time: 21.693514108657837 s\n"
     ]
    }
   ],
   "source": [
    "import time\n",
    "from sklearn.tree import DecisionTreeRegressor\n",
    "from sklearn.metrics import accuracy_score,confusion_matrix, precision_score, recall_score\n",
    "desreg = DecisionTreeRegressor()\n",
    "start = time.time()\n",
    "desreg.fit(train, train_labels)\n",
    "end = time.time()\n",
    "y_pred = desreg.predict(test)\n",
    "print(\"MAE: \", metrics.mean_absolute_error(test_labels, y_pred))\n",
    "print(\"RMSE: \", np.sqrt(metrics.mean_squared_error(test_labels, y_pred)))\n",
    "print(\"Decision Tree Regressor: \", desreg.score(train,train_labels))\n",
    "print(\"Model Fitting Time: \"+ str(end - start) + \" s\")"
   ]
  },
  {
   "cell_type": "markdown",
   "metadata": {},
   "source": [
    "#### 11. Random Forest Analysis (MAE, RMSE, Fitting time)"
   ]
  },
  {
   "cell_type": "code",
   "execution_count": 28,
   "metadata": {},
   "outputs": [
    {
     "name": "stdout",
     "output_type": "stream",
     "text": [
      "MAE:  0.021980648830291754\n",
      "RMSE:  0.034359038855655485\n",
      "Random Forest Regressor:  0.9916776031132312\n",
      "Model Fitting Time: 167.23672533035278 s\n"
     ]
    }
   ],
   "source": [
    "from sklearn.ensemble import RandomForestRegressor\n",
    "from sklearn.datasets import make_regression\n",
    "from sklearn.metrics import accuracy_score,confusion_matrix, precision_score, recall_score\n",
    "rfreg = RandomForestRegressor()\n",
    "start = time.time()\n",
    "rfreg.fit(train, train_labels)\n",
    "end = time.time()\n",
    "y_pred = rfreg.predict(test)\n",
    "print(\"MAE: \", metrics.mean_absolute_error(test_labels, y_pred))\n",
    "print(\"RMSE: \", np.sqrt(metrics.mean_squared_error(test_labels, y_pred)))\n",
    "print(\"Random Forest Regressor: \", rfreg.score(train,train_labels))\n",
    "print(\"Model Fitting Time: \"+ str(end - start) + \" s\")"
   ]
  },
  {
   "cell_type": "markdown",
   "metadata": {},
   "source": [
    "#### 12. Save model to file"
   ]
  },
  {
   "cell_type": "code",
   "execution_count": 29,
   "metadata": {},
   "outputs": [],
   "source": [
    "import pickle\n",
    "filename = 'rf-traffic-demand.sav'\n",
    "pickle.dump(rfreg, open(filename, 'wb'))"
   ]
  },
  {
   "cell_type": "markdown",
   "metadata": {},
   "source": [
    "#### 12. Load and test the model"
   ]
  },
  {
   "cell_type": "code",
   "execution_count": 33,
   "metadata": {},
   "outputs": [
    {
     "name": "stdout",
     "output_type": "stream",
     "text": [
      "MAE:  0.021980648830291754\n",
      "RMSE:  0.034359038855655485\n",
      "Random Forest Regressor:  0.9530939899789462\n"
     ]
    }
   ],
   "source": [
    "filename = 'rf-traffic-demand.sav'\n",
    "loaded_model = pickle.load(open(filename, 'rb'))\n",
    "y_pred = loaded_model.predict(test)\n",
    "print(\"MAE: \", metrics.mean_absolute_error(test_labels, y_pred))\n",
    "print(\"RMSE: \", np.sqrt(metrics.mean_squared_error(test_labels, y_pred)))\n",
    "print(\"Random Forest Regressor: \", loaded_model.score(test,test_labels))"
   ]
  },
  {
   "cell_type": "code",
   "execution_count": null,
   "metadata": {},
   "outputs": [],
   "source": []
  }
 ],
 "metadata": {
  "kernelspec": {
   "display_name": "Python 3",
   "language": "python",
   "name": "python3"
  },
  "language_info": {
   "codemirror_mode": {
    "name": "ipython",
    "version": 3
   },
   "file_extension": ".py",
   "mimetype": "text/x-python",
   "name": "python",
   "nbconvert_exporter": "python",
   "pygments_lexer": "ipython3",
   "version": "3.6.4"
  }
 },
 "nbformat": 4,
 "nbformat_minor": 2
}
